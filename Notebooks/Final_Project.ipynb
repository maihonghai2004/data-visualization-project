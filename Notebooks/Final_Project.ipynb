{
 "cells": [
  {
   "cell_type": "markdown",
   "id": "0dcc35f1",
   "metadata": {},
   "source": [
    "# 📝 ĐỒ ÁN CUỐI KỲ MÔN: TƯƠNG TÁC DỮ LIỆU TRỰC QUAN( DATA VISUALIZATION)"
   ]
  },
  {
   "cell_type": "markdown",
   "id": "a4861c1f",
   "metadata": {},
   "source": [
    "## 📍Đề tài: Phân tích và dự đoán tình trạng nghỉ việc của nhân viên tại IBM"
   ]
  },
  {
   "cell_type": "markdown",
   "id": "94ff43e1",
   "metadata": {},
   "source": [
    "## 👨‍👩‍👧‍👦 Thành viên nhóm:\n",
    "\n",
    "| STT | Họ và tên | Vai trò     | Phụ trách chính                          |\n",
    "| --- | --------- | ----------- | ---------------------------------------- |\n",
    "| 1   | Don       | Thành viên  | Giai đoạn 1, 2, Demo pipeline            |\n",
    "| 2   | Hùng      | Thành viên  | Giai đoạn 3, 5 (model)                   |\n",
    "| 3   | Hải       | Nhóm trưởng | Giai đoạn 4, 6 (storytelling), Trình bày |\n"
   ]
  },
  {
   "cell_type": "markdown",
   "id": "2232869d",
   "metadata": {},
   "source": [
    "## 📁 Dataset sử dụng:\n",
    "Tên: WA_Fn-UseC_-HR-Employee-Attrition.csv \n",
    "\n",
    "Nguồn: Kaggle\n",
    "\n",
    "Link: https://www.kaggle.com/datasets/pavansubhasht/ibm-hr-analytics-attrition-dataset"
   ]
  },
  {
   "cell_type": "markdown",
   "id": "ef69496f",
   "metadata": {},
   "source": [
    "## $Nội dung báo cáo: "
   ]
  },
  {
   "cell_type": "markdown",
   "id": "0ea2beb3",
   "metadata": {},
   "source": [
    "### 🎯 Giai đoạn 1: Hiểu & Thống kê sơ bộ\n",
    "\n",
    "Mục tiêu: \n",
    "- Đọc mô tả trường dữ liệu, xác định kiểu & ý nghĩa\n",
    "- Khảo sát % thiếu giá trị, giá trị ngoại lệ (box-plot, z-score, IQR)\n",
    "- Thống kê mô tả (mean, median, std…) cho biến số & phân bố cho biến hạng\n"
   ]
  },
  {
   "cell_type": "markdown",
   "id": "77e1c556",
   "metadata": {},
   "source": [
    "#### 1.1 Đọc dữ liệu & hiểu ý nghĩa cột"
   ]
  },
  {
   "cell_type": "markdown",
   "id": "f105727c",
   "metadata": {},
   "source": [
    "Import thư viện cần thiết"
   ]
  },
  {
   "cell_type": "code",
   "execution_count": 1,
   "id": "586e7202-17fd-4758-92d3-db5dc6b655a3",
   "metadata": {},
   "outputs": [],
   "source": [
    "# Thư viện cơ bản\n",
    "import pandas as pd\n",
    "import numpy as np\n",
    "\n",
    "# Vẽ biểu đồ thô ban đầu\n",
    "import matplotlib.pyplot as plt\n",
    "import seaborn as sns\n",
    "\n",
    "# Thư viện kiểm tra thống kê\n",
    "from scipy import stats"
   ]
  },
  {
   "cell_type": "code",
   "execution_count": 2,
   "id": "292c4e8b-2858-4177-b77a-5551b09baa2d",
   "metadata": {},
   "outputs": [
    {
     "name": "stdout",
     "output_type": "stream",
     "text": [
      "<class 'pandas.core.frame.DataFrame'>\n",
      "RangeIndex: 1470 entries, 0 to 1469\n",
      "Data columns (total 35 columns):\n",
      " #   Column                    Non-Null Count  Dtype \n",
      "---  ------                    --------------  ----- \n",
      " 0   Age                       1470 non-null   int64 \n",
      " 1   Attrition                 1470 non-null   object\n",
      " 2   BusinessTravel            1470 non-null   object\n",
      " 3   DailyRate                 1470 non-null   int64 \n",
      " 4   Department                1470 non-null   object\n",
      " 5   DistanceFromHome          1470 non-null   int64 \n",
      " 6   Education                 1470 non-null   int64 \n",
      " 7   EducationField            1470 non-null   object\n",
      " 8   EmployeeCount             1470 non-null   int64 \n",
      " 9   EmployeeNumber            1470 non-null   int64 \n",
      " 10  EnvironmentSatisfaction   1470 non-null   int64 \n",
      " 11  Gender                    1470 non-null   object\n",
      " 12  HourlyRate                1470 non-null   int64 \n",
      " 13  JobInvolvement            1470 non-null   int64 \n",
      " 14  JobLevel                  1470 non-null   int64 \n",
      " 15  JobRole                   1470 non-null   object\n",
      " 16  JobSatisfaction           1470 non-null   int64 \n",
      " 17  MaritalStatus             1470 non-null   object\n",
      " 18  MonthlyIncome             1470 non-null   int64 \n",
      " 19  MonthlyRate               1470 non-null   int64 \n",
      " 20  NumCompaniesWorked        1470 non-null   int64 \n",
      " 21  Over18                    1470 non-null   object\n",
      " 22  OverTime                  1470 non-null   object\n",
      " 23  PercentSalaryHike         1470 non-null   int64 \n",
      " 24  PerformanceRating         1470 non-null   int64 \n",
      " 25  RelationshipSatisfaction  1470 non-null   int64 \n",
      " 26  StandardHours             1470 non-null   int64 \n",
      " 27  StockOptionLevel          1470 non-null   int64 \n",
      " 28  TotalWorkingYears         1470 non-null   int64 \n",
      " 29  TrainingTimesLastYear     1470 non-null   int64 \n",
      " 30  WorkLifeBalance           1470 non-null   int64 \n",
      " 31  YearsAtCompany            1470 non-null   int64 \n",
      " 32  YearsInCurrentRole        1470 non-null   int64 \n",
      " 33  YearsSinceLastPromotion   1470 non-null   int64 \n",
      " 34  YearsWithCurrManager      1470 non-null   int64 \n",
      "dtypes: int64(26), object(9)\n",
      "memory usage: 402.1+ KB\n"
     ]
    },
    {
     "data": {
      "text/html": [
       "<div>\n",
       "<style scoped>\n",
       "    .dataframe tbody tr th:only-of-type {\n",
       "        vertical-align: middle;\n",
       "    }\n",
       "\n",
       "    .dataframe tbody tr th {\n",
       "        vertical-align: top;\n",
       "    }\n",
       "\n",
       "    .dataframe thead th {\n",
       "        text-align: right;\n",
       "    }\n",
       "</style>\n",
       "<table border=\"1\" class=\"dataframe\">\n",
       "  <thead>\n",
       "    <tr style=\"text-align: right;\">\n",
       "      <th></th>\n",
       "      <th>Age</th>\n",
       "      <th>Attrition</th>\n",
       "      <th>BusinessTravel</th>\n",
       "      <th>DailyRate</th>\n",
       "      <th>Department</th>\n",
       "      <th>DistanceFromHome</th>\n",
       "      <th>Education</th>\n",
       "      <th>EducationField</th>\n",
       "      <th>EmployeeCount</th>\n",
       "      <th>EmployeeNumber</th>\n",
       "      <th>...</th>\n",
       "      <th>RelationshipSatisfaction</th>\n",
       "      <th>StandardHours</th>\n",
       "      <th>StockOptionLevel</th>\n",
       "      <th>TotalWorkingYears</th>\n",
       "      <th>TrainingTimesLastYear</th>\n",
       "      <th>WorkLifeBalance</th>\n",
       "      <th>YearsAtCompany</th>\n",
       "      <th>YearsInCurrentRole</th>\n",
       "      <th>YearsSinceLastPromotion</th>\n",
       "      <th>YearsWithCurrManager</th>\n",
       "    </tr>\n",
       "  </thead>\n",
       "  <tbody>\n",
       "    <tr>\n",
       "      <th>0</th>\n",
       "      <td>41</td>\n",
       "      <td>Yes</td>\n",
       "      <td>Travel_Rarely</td>\n",
       "      <td>1102</td>\n",
       "      <td>Sales</td>\n",
       "      <td>1</td>\n",
       "      <td>2</td>\n",
       "      <td>Life Sciences</td>\n",
       "      <td>1</td>\n",
       "      <td>1</td>\n",
       "      <td>...</td>\n",
       "      <td>1</td>\n",
       "      <td>80</td>\n",
       "      <td>0</td>\n",
       "      <td>8</td>\n",
       "      <td>0</td>\n",
       "      <td>1</td>\n",
       "      <td>6</td>\n",
       "      <td>4</td>\n",
       "      <td>0</td>\n",
       "      <td>5</td>\n",
       "    </tr>\n",
       "    <tr>\n",
       "      <th>1</th>\n",
       "      <td>49</td>\n",
       "      <td>No</td>\n",
       "      <td>Travel_Frequently</td>\n",
       "      <td>279</td>\n",
       "      <td>Research &amp; Development</td>\n",
       "      <td>8</td>\n",
       "      <td>1</td>\n",
       "      <td>Life Sciences</td>\n",
       "      <td>1</td>\n",
       "      <td>2</td>\n",
       "      <td>...</td>\n",
       "      <td>4</td>\n",
       "      <td>80</td>\n",
       "      <td>1</td>\n",
       "      <td>10</td>\n",
       "      <td>3</td>\n",
       "      <td>3</td>\n",
       "      <td>10</td>\n",
       "      <td>7</td>\n",
       "      <td>1</td>\n",
       "      <td>7</td>\n",
       "    </tr>\n",
       "    <tr>\n",
       "      <th>2</th>\n",
       "      <td>37</td>\n",
       "      <td>Yes</td>\n",
       "      <td>Travel_Rarely</td>\n",
       "      <td>1373</td>\n",
       "      <td>Research &amp; Development</td>\n",
       "      <td>2</td>\n",
       "      <td>2</td>\n",
       "      <td>Other</td>\n",
       "      <td>1</td>\n",
       "      <td>4</td>\n",
       "      <td>...</td>\n",
       "      <td>2</td>\n",
       "      <td>80</td>\n",
       "      <td>0</td>\n",
       "      <td>7</td>\n",
       "      <td>3</td>\n",
       "      <td>3</td>\n",
       "      <td>0</td>\n",
       "      <td>0</td>\n",
       "      <td>0</td>\n",
       "      <td>0</td>\n",
       "    </tr>\n",
       "    <tr>\n",
       "      <th>3</th>\n",
       "      <td>33</td>\n",
       "      <td>No</td>\n",
       "      <td>Travel_Frequently</td>\n",
       "      <td>1392</td>\n",
       "      <td>Research &amp; Development</td>\n",
       "      <td>3</td>\n",
       "      <td>4</td>\n",
       "      <td>Life Sciences</td>\n",
       "      <td>1</td>\n",
       "      <td>5</td>\n",
       "      <td>...</td>\n",
       "      <td>3</td>\n",
       "      <td>80</td>\n",
       "      <td>0</td>\n",
       "      <td>8</td>\n",
       "      <td>3</td>\n",
       "      <td>3</td>\n",
       "      <td>8</td>\n",
       "      <td>7</td>\n",
       "      <td>3</td>\n",
       "      <td>0</td>\n",
       "    </tr>\n",
       "    <tr>\n",
       "      <th>4</th>\n",
       "      <td>27</td>\n",
       "      <td>No</td>\n",
       "      <td>Travel_Rarely</td>\n",
       "      <td>591</td>\n",
       "      <td>Research &amp; Development</td>\n",
       "      <td>2</td>\n",
       "      <td>1</td>\n",
       "      <td>Medical</td>\n",
       "      <td>1</td>\n",
       "      <td>7</td>\n",
       "      <td>...</td>\n",
       "      <td>4</td>\n",
       "      <td>80</td>\n",
       "      <td>1</td>\n",
       "      <td>6</td>\n",
       "      <td>3</td>\n",
       "      <td>3</td>\n",
       "      <td>2</td>\n",
       "      <td>2</td>\n",
       "      <td>2</td>\n",
       "      <td>2</td>\n",
       "    </tr>\n",
       "  </tbody>\n",
       "</table>\n",
       "<p>5 rows × 35 columns</p>\n",
       "</div>"
      ],
      "text/plain": [
       "   Age Attrition     BusinessTravel  DailyRate              Department  \\\n",
       "0   41       Yes      Travel_Rarely       1102                   Sales   \n",
       "1   49        No  Travel_Frequently        279  Research & Development   \n",
       "2   37       Yes      Travel_Rarely       1373  Research & Development   \n",
       "3   33        No  Travel_Frequently       1392  Research & Development   \n",
       "4   27        No      Travel_Rarely        591  Research & Development   \n",
       "\n",
       "   DistanceFromHome  Education EducationField  EmployeeCount  EmployeeNumber  \\\n",
       "0                 1          2  Life Sciences              1               1   \n",
       "1                 8          1  Life Sciences              1               2   \n",
       "2                 2          2          Other              1               4   \n",
       "3                 3          4  Life Sciences              1               5   \n",
       "4                 2          1        Medical              1               7   \n",
       "\n",
       "   ...  RelationshipSatisfaction StandardHours  StockOptionLevel  \\\n",
       "0  ...                         1            80                 0   \n",
       "1  ...                         4            80                 1   \n",
       "2  ...                         2            80                 0   \n",
       "3  ...                         3            80                 0   \n",
       "4  ...                         4            80                 1   \n",
       "\n",
       "   TotalWorkingYears  TrainingTimesLastYear WorkLifeBalance  YearsAtCompany  \\\n",
       "0                  8                      0               1               6   \n",
       "1                 10                      3               3              10   \n",
       "2                  7                      3               3               0   \n",
       "3                  8                      3               3               8   \n",
       "4                  6                      3               3               2   \n",
       "\n",
       "  YearsInCurrentRole  YearsSinceLastPromotion  YearsWithCurrManager  \n",
       "0                  4                        0                     5  \n",
       "1                  7                        1                     7  \n",
       "2                  0                        0                     0  \n",
       "3                  7                        3                     0  \n",
       "4                  2                        2                     2  \n",
       "\n",
       "[5 rows x 35 columns]"
      ]
     },
     "execution_count": 2,
     "metadata": {},
     "output_type": "execute_result"
    }
   ],
   "source": [
    "# Đọc dữ liệu\n",
    "df = pd.read_csv('Data/WA_Fn-UseC_-HR-Employee-Attrition.csv')\n",
    "\n",
    "# Xem tổng quan\n",
    "df.info()\n",
    "df.head()\n"
   ]
  },
  {
   "cell_type": "markdown",
   "id": "decc97f1",
   "metadata": {},
   "source": [
    "| **Cột**                    | **Giải thích** |\n",
    "|----------------------------|----------------|\n",
    "| Age                        | Tuổi của nhân viên |\n",
    "| Attrition                  | Tình trạng nghỉ việc (Yes: nghỉ việc, No: không nghỉ việc) |\n",
    "| BusinessTravel             | Tần suất công tác (Travel_Rarely: hiếm khi, Travel_Frequently: thường xuyên, Non-Travel: không công tác) |\n",
    "| DailyRate                  | Mức lương hàng ngày |\n",
    "| Department                 | Phòng ban nơi nhân viên làm việc (Sales, Research & Development, ...) |\n",
    "| DistanceFromHome           | Khoảng cách từ nhà đến nơi làm việc (tính bằng dặm) |\n",
    "| Education                  | Mức độ giáo dục của nhân viên (1: Below College, 2: College, 3: Bachelor, 4: Master, 5: Doctor) |\n",
    "| EducationField             | Lĩnh vực học tập của nhân viên (Life Sciences, Medical, Other, ...) |\n",
    "| EmployeeCount              | Số lượng nhân viên trong công ty (luôn là 1) |\n",
    "| EmployeeNumber             | Số hiệu nhân viên (mỗi nhân viên có một số duy nhất) |\n",
    "| EnvironmentSatisfaction    | Mức độ hài lòng với môi trường làm việc (1: Low, 2: Medium, 3: High, 4: Very High) |\n",
    "| Gender                     | Giới tính của nhân viên (Male: Nam, Female: Nữ) |\n",
    "| HourlyRate                 | Mức lương theo giờ |\n",
    "| JobInvolvement             | Mức độ tham gia công việc (1: Low, 2: Medium, 3: High, 4: Very High) |\n",
    "| JobLevel                   | Cấp độ công việc (1: Entry Level, 2: Junior, 3: Mid, 4: Senior, 5: Lead) |\n",
    "| JobRole                    | Vai trò công việc của nhân viên (Sales Executive, Research Scientist, ...) |\n",
    "| JobSatisfaction            | Mức độ hài lòng với công việc (1: Low, 2: Medium, 3: High, 4: Very High) |\n",
    "| MaritalStatus              | Tình trạng hôn nhân (Single: Độc thân, Married: Đã kết hôn, Divorced: Đã ly hôn) |\n",
    "| MonthlyIncome              | Thu nhập hàng tháng |\n",
    "| MonthlyRate                | Mức lương hàng tháng |\n",
    "| NumCompaniesWorked         | Số công ty mà nhân viên đã làm việc trong quá khứ |\n",
    "| Over18                     | Trạng thái trên 18 tuổi (luôn là \"Y\") |\n",
    "| OverTime                   | Có làm thêm giờ hay không (Yes: có, No: không) |\n",
    "| PercentSalaryHike          | Tỷ lệ tăng lương theo phần trăm |\n",
    "| PerformanceRating          | Đánh giá hiệu suất công việc (1: Low, 2: Good, 3: Excellent) |\n",
    "| RelationshipSatisfaction   | Mức độ hài lòng với các mối quan hệ công việc (1: Low, 2: Medium, 3: High, 4: Very High) |\n",
    "| StandardHours              | Số giờ làm việc chuẩn (luôn là 80) |\n",
    "| StockOptionLevel           | Mức độ quyền chọn cổ phiếu (0: Không có, 1: Thấp, 2: Cao) |\n",
    "| TotalWorkingYears          | Tổng số năm làm việc của nhân viên từ khi bắt đầu đi làm |\n",
    "| TrainingTimesLastYear      | Số lần tham gia huấn luyện trong năm ngoái |\n",
    "| WorkLifeBalance            | Cân bằng giữa công việc và cuộc sống (1: Low, 2: Medium, 3: High) |\n",
    "| YearsAtCompany             | Số năm làm việc tại công ty hiện tại |\n",
    "| YearsInCurrentRole         | Số năm làm việc ở vị trí hiện tại |\n",
    "| YearsSinceLastPromotion    | Số năm kể từ lần thăng chức gần nhất |\n",
    "| YearsWithCurrManager       | Số năm làm việc với người quản lý hiện tại |\n"
   ]
  },
  {
   "cell_type": "markdown",
   "id": "68ed492c",
   "metadata": {},
   "source": [
    "#### 1.2 Kiểm tra dữ liệu thiếu & giá trị ngoại lệ "
   ]
  },
  {
   "cell_type": "code",
   "execution_count": 3,
   "id": "75a20eb2-2119-49ee-9055-ff75aeaf0986",
   "metadata": {},
   "outputs": [
    {
     "name": "stdout",
     "output_type": "stream",
     "text": [
      "Dữ liệu thiếu:\n",
      "Series([], dtype: int64)\n"
     ]
    }
   ],
   "source": [
    "# Kiểm tra số lượng giá trị thiếu\n",
    "missing_values = df.isnull().sum()\n",
    "\n",
    "# In ra các cột có giá trị thiếu\n",
    "print(\"Dữ liệu thiếu:\")\n",
    "print(missing_values[missing_values > 0])\n"
   ]
  },
  {
   "cell_type": "code",
   "execution_count": 4,
   "id": "9e3e63e9-6f07-4374-9f5e-956cdfd3436a",
   "metadata": {},
   "outputs": [
    {
     "name": "stdout",
     "output_type": "stream",
     "text": [
      "Số dòng bị trùng lặp: 0\n"
     ]
    }
   ],
   "source": [
    "# Kiểm tra tổng số dòng trùng lặp\n",
    "duplicate_count = df.duplicated().sum()\n",
    "\n",
    "print(f\"Số dòng bị trùng lặp: {duplicate_count}\")\n"
   ]
  },
  {
   "cell_type": "markdown",
   "id": "592ca0ea",
   "metadata": {},
   "source": [
    "Phân loại biến để kiểm tra giá trị ngoại lệ  "
   ]
  },
  {
   "cell_type": "code",
   "execution_count": 5,
   "id": "454460f4-9fdb-4722-ab14-821f959d3582",
   "metadata": {},
   "outputs": [],
   "source": [
    "# Target variable\n",
    "target_col = 'Attrition'\n",
    "\n",
    "# Numerical variables\n",
    "numerical_cols = [\n",
    "    'Age', 'DailyRate', 'DistanceFromHome', 'HourlyRate', \n",
    "    'MonthlyIncome', 'MonthlyRate', 'NumCompaniesWorked', \n",
    "    'PercentSalaryHike', 'TotalWorkingYears', 'TrainingTimesLastYear', \n",
    "    'YearsAtCompany', 'YearsInCurrentRole', 'YearsSinceLastPromotion', \n",
    "    'YearsWithCurrManager'\n",
    "]\n",
    "\n",
    "# Categorical variables\n",
    "categorical_cols = [\n",
    "    'BusinessTravel', 'Department', 'EducationField', \n",
    "    'Gender', 'JobRole', 'MaritalStatus', 'OverTime'\n",
    "]\n",
    "\n",
    "# Ordinal variables\n",
    "ordinal_cols = [\n",
    "    'Education', 'EnvironmentSatisfaction', 'JobInvolvement', \n",
    "    'JobLevel', 'JobSatisfaction', 'PerformanceRating', \n",
    "    'RelationshipSatisfaction', 'StockOptionLevel', 'WorkLifeBalance'\n",
    "]\n",
    "\n",
    "# Columns to drop\n",
    "drop_cols = ['EmployeeCount', 'Over18', 'StandardHours', 'EmployeeNumber']\n"
   ]
  },
  {
   "cell_type": "code",
   "execution_count": 6,
   "id": "464298a7-dd96-4d92-8617-feded573c982",
   "metadata": {},
   "outputs": [
    {
     "data": {
      "text/html": [
       "<div>\n",
       "<style scoped>\n",
       "    .dataframe tbody tr th:only-of-type {\n",
       "        vertical-align: middle;\n",
       "    }\n",
       "\n",
       "    .dataframe tbody tr th {\n",
       "        vertical-align: top;\n",
       "    }\n",
       "\n",
       "    .dataframe thead th {\n",
       "        text-align: right;\n",
       "    }\n",
       "</style>\n",
       "<table border=\"1\" class=\"dataframe\">\n",
       "  <thead>\n",
       "    <tr style=\"text-align: right;\">\n",
       "      <th></th>\n",
       "      <th>count</th>\n",
       "      <th>mean</th>\n",
       "      <th>std</th>\n",
       "      <th>min</th>\n",
       "      <th>25%</th>\n",
       "      <th>50%</th>\n",
       "      <th>75%</th>\n",
       "      <th>max</th>\n",
       "    </tr>\n",
       "  </thead>\n",
       "  <tbody>\n",
       "    <tr>\n",
       "      <th>Age</th>\n",
       "      <td>1470.0</td>\n",
       "      <td>36.923810</td>\n",
       "      <td>9.135373</td>\n",
       "      <td>18.0</td>\n",
       "      <td>30.0</td>\n",
       "      <td>36.0</td>\n",
       "      <td>43.00</td>\n",
       "      <td>60.0</td>\n",
       "    </tr>\n",
       "    <tr>\n",
       "      <th>DailyRate</th>\n",
       "      <td>1470.0</td>\n",
       "      <td>802.485714</td>\n",
       "      <td>403.509100</td>\n",
       "      <td>102.0</td>\n",
       "      <td>465.0</td>\n",
       "      <td>802.0</td>\n",
       "      <td>1157.00</td>\n",
       "      <td>1499.0</td>\n",
       "    </tr>\n",
       "    <tr>\n",
       "      <th>DistanceFromHome</th>\n",
       "      <td>1470.0</td>\n",
       "      <td>9.192517</td>\n",
       "      <td>8.106864</td>\n",
       "      <td>1.0</td>\n",
       "      <td>2.0</td>\n",
       "      <td>7.0</td>\n",
       "      <td>14.00</td>\n",
       "      <td>29.0</td>\n",
       "    </tr>\n",
       "    <tr>\n",
       "      <th>HourlyRate</th>\n",
       "      <td>1470.0</td>\n",
       "      <td>65.891156</td>\n",
       "      <td>20.329428</td>\n",
       "      <td>30.0</td>\n",
       "      <td>48.0</td>\n",
       "      <td>66.0</td>\n",
       "      <td>83.75</td>\n",
       "      <td>100.0</td>\n",
       "    </tr>\n",
       "    <tr>\n",
       "      <th>MonthlyIncome</th>\n",
       "      <td>1470.0</td>\n",
       "      <td>6502.931293</td>\n",
       "      <td>4707.956783</td>\n",
       "      <td>1009.0</td>\n",
       "      <td>2911.0</td>\n",
       "      <td>4919.0</td>\n",
       "      <td>8379.00</td>\n",
       "      <td>19999.0</td>\n",
       "    </tr>\n",
       "    <tr>\n",
       "      <th>MonthlyRate</th>\n",
       "      <td>1470.0</td>\n",
       "      <td>14313.103401</td>\n",
       "      <td>7117.786044</td>\n",
       "      <td>2094.0</td>\n",
       "      <td>8047.0</td>\n",
       "      <td>14235.5</td>\n",
       "      <td>20461.50</td>\n",
       "      <td>26999.0</td>\n",
       "    </tr>\n",
       "    <tr>\n",
       "      <th>NumCompaniesWorked</th>\n",
       "      <td>1470.0</td>\n",
       "      <td>2.693197</td>\n",
       "      <td>2.498009</td>\n",
       "      <td>0.0</td>\n",
       "      <td>1.0</td>\n",
       "      <td>2.0</td>\n",
       "      <td>4.00</td>\n",
       "      <td>9.0</td>\n",
       "    </tr>\n",
       "    <tr>\n",
       "      <th>PercentSalaryHike</th>\n",
       "      <td>1470.0</td>\n",
       "      <td>15.209524</td>\n",
       "      <td>3.659938</td>\n",
       "      <td>11.0</td>\n",
       "      <td>12.0</td>\n",
       "      <td>14.0</td>\n",
       "      <td>18.00</td>\n",
       "      <td>25.0</td>\n",
       "    </tr>\n",
       "    <tr>\n",
       "      <th>TotalWorkingYears</th>\n",
       "      <td>1470.0</td>\n",
       "      <td>11.279592</td>\n",
       "      <td>7.780782</td>\n",
       "      <td>0.0</td>\n",
       "      <td>6.0</td>\n",
       "      <td>10.0</td>\n",
       "      <td>15.00</td>\n",
       "      <td>40.0</td>\n",
       "    </tr>\n",
       "    <tr>\n",
       "      <th>TrainingTimesLastYear</th>\n",
       "      <td>1470.0</td>\n",
       "      <td>2.799320</td>\n",
       "      <td>1.289271</td>\n",
       "      <td>0.0</td>\n",
       "      <td>2.0</td>\n",
       "      <td>3.0</td>\n",
       "      <td>3.00</td>\n",
       "      <td>6.0</td>\n",
       "    </tr>\n",
       "    <tr>\n",
       "      <th>YearsAtCompany</th>\n",
       "      <td>1470.0</td>\n",
       "      <td>7.008163</td>\n",
       "      <td>6.126525</td>\n",
       "      <td>0.0</td>\n",
       "      <td>3.0</td>\n",
       "      <td>5.0</td>\n",
       "      <td>9.00</td>\n",
       "      <td>40.0</td>\n",
       "    </tr>\n",
       "    <tr>\n",
       "      <th>YearsInCurrentRole</th>\n",
       "      <td>1470.0</td>\n",
       "      <td>4.229252</td>\n",
       "      <td>3.623137</td>\n",
       "      <td>0.0</td>\n",
       "      <td>2.0</td>\n",
       "      <td>3.0</td>\n",
       "      <td>7.00</td>\n",
       "      <td>18.0</td>\n",
       "    </tr>\n",
       "    <tr>\n",
       "      <th>YearsSinceLastPromotion</th>\n",
       "      <td>1470.0</td>\n",
       "      <td>2.187755</td>\n",
       "      <td>3.222430</td>\n",
       "      <td>0.0</td>\n",
       "      <td>0.0</td>\n",
       "      <td>1.0</td>\n",
       "      <td>3.00</td>\n",
       "      <td>15.0</td>\n",
       "    </tr>\n",
       "    <tr>\n",
       "      <th>YearsWithCurrManager</th>\n",
       "      <td>1470.0</td>\n",
       "      <td>4.123129</td>\n",
       "      <td>3.568136</td>\n",
       "      <td>0.0</td>\n",
       "      <td>2.0</td>\n",
       "      <td>3.0</td>\n",
       "      <td>7.00</td>\n",
       "      <td>17.0</td>\n",
       "    </tr>\n",
       "  </tbody>\n",
       "</table>\n",
       "</div>"
      ],
      "text/plain": [
       "                          count          mean          std     min     25%  \\\n",
       "Age                      1470.0     36.923810     9.135373    18.0    30.0   \n",
       "DailyRate                1470.0    802.485714   403.509100   102.0   465.0   \n",
       "DistanceFromHome         1470.0      9.192517     8.106864     1.0     2.0   \n",
       "HourlyRate               1470.0     65.891156    20.329428    30.0    48.0   \n",
       "MonthlyIncome            1470.0   6502.931293  4707.956783  1009.0  2911.0   \n",
       "MonthlyRate              1470.0  14313.103401  7117.786044  2094.0  8047.0   \n",
       "NumCompaniesWorked       1470.0      2.693197     2.498009     0.0     1.0   \n",
       "PercentSalaryHike        1470.0     15.209524     3.659938    11.0    12.0   \n",
       "TotalWorkingYears        1470.0     11.279592     7.780782     0.0     6.0   \n",
       "TrainingTimesLastYear    1470.0      2.799320     1.289271     0.0     2.0   \n",
       "YearsAtCompany           1470.0      7.008163     6.126525     0.0     3.0   \n",
       "YearsInCurrentRole       1470.0      4.229252     3.623137     0.0     2.0   \n",
       "YearsSinceLastPromotion  1470.0      2.187755     3.222430     0.0     0.0   \n",
       "YearsWithCurrManager     1470.0      4.123129     3.568136     0.0     2.0   \n",
       "\n",
       "                             50%       75%      max  \n",
       "Age                         36.0     43.00     60.0  \n",
       "DailyRate                  802.0   1157.00   1499.0  \n",
       "DistanceFromHome             7.0     14.00     29.0  \n",
       "HourlyRate                  66.0     83.75    100.0  \n",
       "MonthlyIncome             4919.0   8379.00  19999.0  \n",
       "MonthlyRate              14235.5  20461.50  26999.0  \n",
       "NumCompaniesWorked           2.0      4.00      9.0  \n",
       "PercentSalaryHike           14.0     18.00     25.0  \n",
       "TotalWorkingYears           10.0     15.00     40.0  \n",
       "TrainingTimesLastYear        3.0      3.00      6.0  \n",
       "YearsAtCompany               5.0      9.00     40.0  \n",
       "YearsInCurrentRole           3.0      7.00     18.0  \n",
       "YearsSinceLastPromotion      1.0      3.00     15.0  \n",
       "YearsWithCurrManager         3.0      7.00     17.0  "
      ]
     },
     "execution_count": 6,
     "metadata": {},
     "output_type": "execute_result"
    }
   ],
   "source": [
    "# Thống kê mô tả nhóm biến số\n",
    "df[numerical_cols].describe().T\n"
   ]
  },
  {
   "cell_type": "code",
   "execution_count": 7,
   "id": "acfba002-25b4-4539-a51a-6d396f2877fa",
   "metadata": {},
   "outputs": [
    {
     "data": {
      "image/png": "[encoded data removed]",
      "text/plain": [
       "<Figure size 800x400 with 1 Axes>"
      ]
     },
     "metadata": {},
     "output_type": "display_data"
    },
    {
     "data": {
      "image/png": "[encoded data removed]",
      "text/plain": [
       "<Figure size 800x400 with 1 Axes>"
      ]
     },
     "metadata": {},
     "output_type": "display_data"
    },
    {
     "data": {
      "image/png": "[encoded data removed]",
      "text/plain": [
       "<Figure size 800x400 with 1 Axes>"
      ]
     },
     "metadata": {},
     "output_type": "display_data"
    },
    {
     "data": {
      "image/png": "[encoded data removed]",
      "text/plain": [
       "<Figure size 800x400 with 1 Axes>"
      ]
     },
     "metadata": {},
     "output_type": "display_data"
    },
    {
     "data": {
      "image/png": "[encoded data removed]",
      "text/plain": [
       "<Figure size 800x400 with 1 Axes>"
      ]
     },
     "metadata": {},
     "output_type": "display_data"
    },
    {
     "data": {
      "image/png": "[encoded data removed]",
      "text/plain": [
       "<Figure size 800x400 with 1 Axes>"
      ]
     },
     "metadata": {},
     "output_type": "display_data"
    },
    {
     "data": {
      "image/png": "[encoded data removed]",
      "text/plain": [
       "<Figure size 800x400 with 1 Axes>"
      ]
     },
     "metadata": {},
     "output_type": "display_data"
    },
    {
     "data": {
      "image/png": "[encoded data removed]",
      "text/plain": [
       "<Figure size 800x400 with 1 Axes>"
      ]
     },
     "metadata": {},
     "output_type": "display_data"
    },
    {
     "data": {
      "image/png": "[encoded data removed]",
      "text/plain": [
       "<Figure size 800x400 with 1 Axes>"
      ]
     },
     "metadata": {},
     "output_type": "display_data"
    },
    {
     "data": {
      "image/png": "[encoded data removed]",
      "text/plain": [
       "<Figure size 800x400 with 1 Axes>"
      ]
     },
     "metadata": {},
     "output_type": "display_data"
    },
    {
     "data": {
      "image/png": "[encoded data removed]",
      "text/plain": [
       "<Figure size 800x400 with 1 Axes>"
      ]
     },
     "metadata": {},
     "output_type": "display_data"
    },
    {
     "data": {
      "image/png": "[encoded data removed]",
      "text/plain": [
       "<Figure size 800x400 with 1 Axes>"
      ]
     },
     "metadata": {},
     "output_type": "display_data"
    },
    {
     "data": {
      "image/png": "[encoded data removed]",
      "text/plain": [
       "<Figure size 800x400 with 1 Axes>"
      ]
     },
     "metadata": {},
     "output_type": "display_data"
    },
    {
     "data": {
      "image/png": "[encoded data removed]",
      "text/plain": [
       "<Figure size 800x400 with 1 Axes>"
      ]
     },
     "metadata": {},
     "output_type": "display_data"
    }
   ],
   "source": [
    "# Vẽ Boxplot từng biến số\n",
    "for col in numerical_cols:\n",
    "    plt.figure(figsize=(8, 4))\n",
    "    sns.boxplot(x=df[col])\n",
    "    plt.title(f\"Boxplot of {col}\")\n",
    "    plt.show()\n"
   ]
  },
  {
   "cell_type": "markdown",
   "id": "71b8813b-3856-4ecb-92cd-4dd143491bba",
   "metadata": {},
   "source": [
    "**Nhận xét: Nhìn sơ qua thì số liệu khá ổn định, không có dữ liệu bất thường nào.**"
   ]
  },
  {
   "cell_type": "markdown",
   "id": "189fb57a",
   "metadata": {},
   "source": [
    "### 🧼 Giai đoạn 2: Làm sạch & Chuẩn hoá\n",
    "\n",
    "Mục tiêu: \n",
    "- Xử lý NA (bỏ, suy diễn, median impute)\n",
    "- Chuẩn hóa tên cột, kiểu dữ liệu (datetime, category)\n",
    "- Gộp/nhóm age, income thành band\n",
    "- Sinh biến mới: TenureBand, IncomeBand, WorkLifeBalanceScore (mức 1-4)\n"
   ]
  },
  {
   "cell_type": "markdown",
   "id": "60fe82cc",
   "metadata": {},
   "source": [
    "#### 2.1 Xử lý dữ liệu thiếu"
   ]
  },
  {
   "cell_type": "code",
   "execution_count": 8,
   "id": "f6ceab76-f4ab-4dec-94a0-6ebcdb90792a",
   "metadata": {},
   "outputs": [],
   "source": [
    "# Bỏ để đỡ gây nhiễu:\n",
    "df.drop(columns=['MonthlyRate'], inplace=True)\n"
   ]
  },
  {
   "cell_type": "markdown",
   "id": "6c18b57a-cc0a-437b-ad31-5530fc75b548",
   "metadata": {},
   "source": [
    "- Trong quá trình khám phá dữ liệu (EDA), chúng tôi nhận thấy biến MonthlyRate có phân bố giá trị rất rộng, dao động từ 2.094 đến 26.999 USD.\n",
    "Tuy nhiên, khi so sánh với các biến kinh tế khác như MonthlyIncome – vốn trực tiếp thể hiện thu nhập thực tế của nhân viên, thì MonthlyRate không có mối quan hệ rõ ràng với việc nghỉ việc (Attrition)."
   ]
  },
  {
   "cell_type": "markdown",
   "id": "fa4b6340",
   "metadata": {},
   "source": [
    "#### 2.2 Chuẩn hóa tên cột & kiểu dữ liệu"
   ]
  },
  {
   "cell_type": "code",
   "execution_count": 9,
   "id": "5f01762e-7969-45f4-aa36-5b0df1240771",
   "metadata": {},
   "outputs": [
    {
     "name": "stdout",
     "output_type": "stream",
     "text": [
      "✅ Đã chuẩn hóa datatype cho các biến phân loại.\n"
     ]
    }
   ],
   "source": [
    "# Chuẩn hóa datatype\n",
    "for col in categorical_cols + [target_col]:\n",
    "    df[col] = df[col].astype('category')\n",
    "\n",
    "print(\"✅ Đã chuẩn hóa datatype cho các biến phân loại.\")"
   ]
  },
  {
   "cell_type": "markdown",
   "id": "de5d4dcd",
   "metadata": {},
   "source": [
    "#### 2.3 Nhóm và sinh biến mới"
   ]
  },
  {
   "cell_type": "code",
   "execution_count": 10,
   "id": "5cf792c7-9270-42c2-bb4c-2bcf0977ffe3",
   "metadata": {},
   "outputs": [
    {
     "name": "stdout",
     "output_type": "stream",
     "text": [
      "✅ Đã sinh biến AgeBand.\n",
      "✅ Đã sinh biến TenureBand.\n",
      "✅ Đã sinh biến IncomeBand.\n"
     ]
    }
   ],
   "source": [
    "#Phân nhóm\n",
    "# Nhóm tuổi\n",
    "df['AgeBand'] = pd.cut(\n",
    "    df['Age'], \n",
    "    bins=[17, 25, 30, 35, 40, 60], \n",
    "    labels=['18-25', '26-30', '31-35', '36-40', '41+']\n",
    ")\n",
    "\n",
    "df['AgeBand'] = df['AgeBand'].astype('category')\n",
    "\n",
    "print(\"✅ Đã sinh biến AgeBand.\")\n",
    "\n",
    "# Nhóm thâm niên làm việc\n",
    "df['TenureBand'] = pd.cut(\n",
    "    df['YearsAtCompany'],\n",
    "    bins=[-1, 1, 3, 5, 10, 40],\n",
    "    labels=['<1y', '1-3y', '3-5y', '5-10y', '>10y']\n",
    ")\n",
    "\n",
    "df['TenureBand'] = df['TenureBand'].astype('category')\n",
    "\n",
    "print(\"✅ Đã sinh biến TenureBand.\")\n",
    "\n",
    "\n",
    "# Nhóm mức thu nhập\n",
    "df['IncomeBand'] = pd.cut(\n",
    "    df['MonthlyIncome'],\n",
    "    bins=[0, 3000, 5000, 8000, 12000, 20000],\n",
    "    labels=['Low', 'Lower-Mid', 'Mid', 'Upper-Mid', 'High']\n",
    ")\n",
    "\n",
    "df['IncomeBand'] = df['IncomeBand'].astype('category')\n",
    "\n",
    "print(\"✅ Đã sinh biến IncomeBand.\")\n",
    "\n"
   ]
  },
  {
   "cell_type": "markdown",
   "id": "de024689",
   "metadata": {},
   "source": [
    "#### 2.4 Lưu dữ liệu đã xử lý ra file CSV"
   ]
  },
  {
   "cell_type": "code",
   "execution_count": 11,
   "id": "82c53eaf",
   "metadata": {},
   "outputs": [],
   "source": [
    "df.to_csv('Data/ibm_hr_clean.csv', index=False)\n"
   ]
  },
  {
   "cell_type": "markdown",
   "id": "e3a77cca",
   "metadata": {},
   "source": [
    "3.1 Phân bố tổng thể attrition\n",
    "\n",
    "Countplot attrition (pie chart hoặc barplot)\n",
    "\n",
    "3.2 Phân bố theo các nhóm\n",
    "\n",
    "Attrition vs. Department\n",
    "\n",
    "Attrition vs. JobRole\n",
    "\n",
    "Attrition vs. AgeBand, TenureBand\n",
    "\n",
    "Attrition vs. OverTime, JobSatisfaction, EnvSatisfaction\n",
    "→ Từng cái dùng countplot + annotate %\n",
    "\n",
    "3.3 Phân tích tương quan\n",
    "\n",
    "Heatmap tương quan biến số\n",
    "\n",
    "Xem mối quan hệ giữa income, satisfaction, years,...\n",
    "\n",
    "3.4 Sankey Diagram\n",
    "\n",
    "Biểu đồ dòng: đi làm → overtime → nghỉ việc"
   ]
  },
  {
   "cell_type": "markdown",
   "id": "28e20f08",
   "metadata": {},
   "source": [
    "### 📌 Giai đoạn 4: KPI Cốt lõi\n",
    "\n",
    "Mục tiêu: Tính toán các KPI liên quan đến nghỉ việc và chi phí ảnh hưởng."
   ]
  },
  {
   "cell_type": "markdown",
   "id": "afebfcf4-bcdb-46f8-b081-6b21bb442220",
   "metadata": {},
   "source": [
    "### KPI 1: Tỷ lệ nghỉ việc (Attrition Rate) theo Phòng ban và Chức danh công việc (Department/JobRole)\n"
   ]
  },
  {
   "cell_type": "markdown",
   "id": "a01ebd4a",
   "metadata": {},
   "source": [
    "- Sau khi nhận diện được tỷ lệ nghỉ việc chung toàn công ty, câu hỏi tiếp theo chúng tôi đặt ra là: \"Vậy thì, nhân viên ở đâu đang nghỉ việc nhiều nhất?\"\n",
    "\n",
    "Không phải tất cả các phòng ban hay chức danh đều chịu ảnh hưởng như nhau. Một số bộ phận có thể đang ổn định, trong khi những bộ phận khác lại âm thầm mất đi một lượng lớn nhân viên.\n",
    "\n",
    "Việc phân tích tỷ lệ nghỉ việc theo từng Department (phòng ban) và Job Role (chức danh công việc) cho phép chúng ta:\n",
    "\n",
    "Khoanh vùng “ổ dịch” – những nơi có nguy cơ cao nhất.\n",
    "\n",
    "Ưu tiên nguồn lực – tập trung hành động ở những nơi cần thiết nhất.\n",
    "\n",
    "Hiểu sâu bản chất – xem liệu công việc, môi trường, hay yêu cầu công việc có đang ảnh hưởng đến quyết định rời đi của nhân viên hay không.\n",
    "\n",
    "Vì vậy, trong phần tiếp theo, chúng tôi sẽ phân tích Attrition Rate theo từng Department và Job Role nhằm xác định những điểm nóng về nghỉ việc trong tổ chức."
   ]
  },
  {
   "cell_type": "markdown",
   "id": "c6f0d588",
   "metadata": {},
   "source": [
    "#### 🔍Khám phá thông tin sơ bộ về phòng ban và role"
   ]
  },
  {
   "cell_type": "code",
   "execution_count": 12,
   "id": "6e2121b2-2f5a-47c7-89fe-d9aae7ccba68",
   "metadata": {},
   "outputs": [
    {
     "name": "stdout",
     "output_type": "stream",
     "text": [
      "Tổng số nhân viên theo Department:\n",
      "Department\n",
      "Research & Development    961\n",
      "Sales                     446\n",
      "Human Resources            63\n",
      "Name: count, dtype: int64\n",
      "\n",
      "Tổng số nhân viên theo JobRole:\n",
      "JobRole\n",
      "Sales Executive              326\n",
      "Research Scientist           292\n",
      "Laboratory Technician        259\n",
      "Manufacturing Director       145\n",
      "Healthcare Representative    131\n",
      "Manager                      102\n",
      "Sales Representative          83\n",
      "Research Director             80\n",
      "Human Resources               52\n",
      "Name: count, dtype: int64\n"
     ]
    }
   ],
   "source": [
    "\n",
    "# Tổng số nhân viên theo Department\n",
    "dept_total = df['Department'].value_counts()\n",
    "\n",
    "# Tổng số nhân viên theo JobRole\n",
    "jobrole_total = df['JobRole'].value_counts()\n",
    "\n",
    "# In ra kết quả\n",
    "print(\"Tổng số nhân viên theo Department:\")\n",
    "print(dept_total)\n",
    "\n",
    "print(\"\\nTổng số nhân viên theo JobRole:\")\n",
    "print(jobrole_total)\n"
   ]
  },
  {
   "cell_type": "markdown",
   "id": "553bef6c",
   "metadata": {},
   "source": [
    "#### 🔍Phân tích Attrition dựa phòng ban và role"
   ]
  },
  {
   "cell_type": "code",
   "execution_count": 13,
   "id": "ee7074a9",
   "metadata": {},
   "outputs": [
    {
     "name": "stdout",
     "output_type": "stream",
     "text": [
      "✅ Attrition Rate toàn công ty: 16.12%\n",
      "\n",
      "📊 Thống kê nghỉ việc theo Department:\n",
      "                        Số nghỉ việc  Tổng nhân viên  Attrition Rate (%)  \\\n",
      "Department                                                                 \n",
      "Sales                             92             446           20.627803   \n",
      "Human Resources                   12              63           19.047619   \n",
      "Research & Development           133             961           13.839750   \n",
      "\n",
      "                        Chênh lệch với trung bình (%)  \n",
      "Department                                             \n",
      "Sales                                        4.505354  \n",
      "Human Resources                              2.925170  \n",
      "Research & Development                      -2.282699  \n",
      "\n",
      "📊 Thống kê nghỉ việc theo JobRole:\n",
      "                           Số nghỉ việc  Tổng nhân viên  Attrition Rate (%)  \\\n",
      "JobRole                                                                       \n",
      "Sales Representative                 33              83           39.759036   \n",
      "Laboratory Technician                62             259           23.938224   \n",
      "Human Resources                      12              52           23.076923   \n",
      "Sales Executive                      57             326           17.484663   \n",
      "Research Scientist                   47             292           16.095890   \n",
      "Manufacturing Director               10             145            6.896552   \n",
      "Healthcare Representative             9             131            6.870229   \n",
      "Manager                               5             102            4.901961   \n",
      "Research Director                     2              80            2.500000   \n",
      "\n",
      "                           Chênh lệch với trung bình (%)  \n",
      "JobRole                                                   \n",
      "Sales Representative                           23.636587  \n",
      "Laboratory Technician                           7.815775  \n",
      "Human Resources                                 6.954474  \n",
      "Sales Executive                                 1.362214  \n",
      "Research Scientist                             -0.026559  \n",
      "Manufacturing Director                         -9.225897  \n",
      "Healthcare Representative                      -9.252220  \n",
      "Manager                                       -11.220488  \n",
      "Research Director                             -13.622449  \n"
     ]
    }
   ],
   "source": [
    "# 🔹 Tính attrition rate toàn công ty\n",
    "attrition_total = (df['Attrition'] == 'Yes').mean() * 100\n",
    "print(f\"✅ Attrition Rate toàn công ty: {attrition_total:.2f}%\\n\")\n",
    "\n",
    "# 🔹 Tạo bảng Department\n",
    "dept_summary = pd.DataFrame({\n",
    "    'Số nghỉ việc': df[df['Attrition'] == 'Yes']['Department'].value_counts(),\n",
    "    'Tổng nhân viên': df['Department'].value_counts()\n",
    "})\n",
    "dept_summary['Attrition Rate (%)'] = (dept_summary['Số nghỉ việc'] / dept_summary['Tổng nhân viên']) * 100\n",
    "dept_summary['Chênh lệch với trung bình (%)'] = dept_summary['Attrition Rate (%)'] - attrition_total\n",
    "dept_summary = dept_summary.sort_values(by='Attrition Rate (%)', ascending=False)\n",
    "\n",
    "print(\"📊 Thống kê nghỉ việc theo Department:\")\n",
    "print(dept_summary)\n",
    "\n",
    "# 🔹 Tạo bảng JobRole\n",
    "jobrole_summary = pd.DataFrame({\n",
    "    'Số nghỉ việc': df[df['Attrition'] == 'Yes']['JobRole'].value_counts(),\n",
    "    'Tổng nhân viên': df['JobRole'].value_counts()\n",
    "})\n",
    "jobrole_summary['Attrition Rate (%)'] = (jobrole_summary['Số nghỉ việc'] / jobrole_summary['Tổng nhân viên']) * 100\n",
    "jobrole_summary['Chênh lệch với trung bình (%)'] = jobrole_summary['Attrition Rate (%)'] - attrition_total\n",
    "jobrole_summary = jobrole_summary.sort_values(by='Attrition Rate (%)', ascending=False)\n",
    "\n",
    "print(\"\\n📊 Thống kê nghỉ việc theo JobRole:\")\n",
    "print(jobrole_summary)\n"
   ]
  },
  {
   "cell_type": "code",
   "execution_count": 14,
   "id": "7b48e82e",
   "metadata": {},
   "outputs": [
    {
     "name": "stderr",
     "output_type": "stream",
     "text": [
      "C:\\Users\\maiho\\AppData\\Local\\Temp\\ipykernel_6768\\3308545605.py:2: FutureWarning: \n",
      "\n",
      "Passing `palette` without assigning `hue` is deprecated and will be removed in v0.14.0. Assign the `y` variable to `hue` and set `legend=False` for the same effect.\n",
      "\n",
      "  sns.barplot(\n"
     ]
    },
    {
     "data": {
      "image/png": "[encoded data removed]",
      "text/plain": [
       "<Figure size 1000x600 with 1 Axes>"
      ]
     },
     "metadata": {},
     "output_type": "display_data"
    }
   ],
   "source": [
    "plt.figure(figsize=(10, 6))\n",
    "sns.barplot(\n",
    "    x='Attrition Rate (%)',\n",
    "    y=dept_summary.index,\n",
    "    data=dept_summary,\n",
    "    palette='crest'\n",
    ")\n",
    "plt.axvline(attrition_total, color='black', linestyle='--', label=f'Trung bình: {attrition_total:.2f}%')\n",
    "plt.title('Attrition Rate theo Department', fontsize=16)\n",
    "plt.xlabel('Attrition Rate (%)', fontsize=14)\n",
    "plt.ylabel('Department', fontsize=14)\n",
    "plt.legend()\n",
    "plt.grid(axis='x')\n",
    "plt.tight_layout()\n",
    "plt.show()\n"
   ]
  },
  {
   "cell_type": "code",
   "execution_count": 15,
   "id": "4b796d49",
   "metadata": {},
   "outputs": [
    {
     "name": "stderr",
     "output_type": "stream",
     "text": [
      "C:\\Users\\maiho\\AppData\\Local\\Temp\\ipykernel_6768\\538222816.py:5: FutureWarning: \n",
      "\n",
      "Passing `palette` without assigning `hue` is deprecated and will be removed in v0.14.0. Assign the `y` variable to `hue` and set `legend=False` for the same effect.\n",
      "\n",
      "  sns.barplot(\n"
     ]
    },
    {
     "data": {
      "image/png": "[encoded data removed]",
      "text/plain": [
       "<Figure size 1200x800 with 1 Axes>"
      ]
     },
     "metadata": {},
     "output_type": "display_data"
    }
   ],
   "source": [
    "import matplotlib.pyplot as plt\n",
    "import seaborn as sns\n",
    "\n",
    "plt.figure(figsize=(12, 8))\n",
    "sns.barplot(\n",
    "    x='Attrition Rate (%)',\n",
    "    y=jobrole_summary.index,\n",
    "    data=jobrole_summary,\n",
    "    palette='coolwarm'\n",
    ")\n",
    "plt.axvline(attrition_total, color='black', linestyle='--', label=f'Trung bình: {attrition_total:.2f}%')\n",
    "plt.title('Attrition Rate theo JobRole', fontsize=16)\n",
    "plt.xlabel('Attrition Rate (%)', fontsize=14)\n",
    "plt.ylabel('Job Role', fontsize=14)\n",
    "plt.legend()\n",
    "plt.grid(axis='x')\n",
    "plt.tight_layout()\n",
    "plt.show()\n"
   ]
  },
  {
   "cell_type": "markdown",
   "id": "798c3c33-bb78-4464-98ee-6acf863c0c16",
   "metadata": {},
   "source": [
    "#### 🎯 KPI: Attrition Rate theo Department và Job Role\n",
    "\n",
    "\n",
    "\n",
    "##### ✅ Bức tranh toàn cảnh: Tỷ lệ nghỉ việc toàn công ty\n",
    "\n",
    "> Tỷ lệ nghỉ việc trung bình của toàn công ty hiện tại là **16.12%**.  \n",
    "> Ở mức này, có vẻ như mọi thứ vẫn nằm trong ngưỡng chấp nhận được.\n",
    "\n",
    "🟢 *Tâm lý ban đầu của người đọc: \"Ổn mà, không đến mức phải lo.\"*\n",
    "\n",
    "\n",
    "\n",
    "##### 🚨 Những tín hiệu vượt chuẩn bắt đầu xuất hiện…\n",
    "\n",
    "📊 **Attrition Rate theo Department**:\n",
    "\n",
    "| Department            | Số nghỉ việc | Tổng nhân viên | Attrition Rate (%) | So với trung bình |\n",
    "|----------------------|--------------|----------------|---------------------|--------------------|\n",
    "| Sales                | 92           | 446            | **20.63%**          | **+4.51%**         |\n",
    "| Human Resources      | 12           | 63             | 19.05%              | +2.93%             |\n",
    "| Research & Development | 133        | 961            | 13.84%              | –2.28%             |\n",
    "\n",
    "> Bộ phận **Sales** – động cơ chính của doanh thu – đang có tỷ lệ nghỉ việc cao hơn trung bình đến **4.5%**, tương đương mức tăng **28% so với chuẩn**.\n",
    "\n",
    "🟡 *Khán giả bắt đầu cảm nhận có điều gì đó không ổn đang âm thầm xảy ra.*\n",
    "\n",
    "\n",
    "\n",
    "##### 🔥 Cao trào: Khoanh vùng “ổ dịch” bên trong bộ phận Sales\n",
    "\n",
    "📊 **Attrition Rate theo Job Role**:\n",
    "\n",
    "| Job Role              | Số nghỉ việc | Tổng nhân viên | Attrition Rate (%) | So với trung bình |\n",
    "|-----------------------|--------------|----------------|---------------------|--------------------|\n",
    "| Sales Representative  | 33           | 83             | **39.76%**          | **+23.64%**        |\n",
    "| Laboratory Technician | 62           | 259            | 23.94%              | +7.82%             |\n",
    "| Sales Executive       | 57           | 326            | 17.48%              | +1.36%             |\n",
    "\n",
    "> **Gần 40%** nhân viên **Sales Representative** rời bỏ công ty.  \n",
    "> Điều này nghĩa là **cứ 5 người được tuyển thì 2 người sẽ rời đi** trong thời gian ngắn.\n",
    "\n",
    "> Đây không còn là một con số “báo động” – nó là một **ổ dịch nhân sự thực sự**.\n",
    "\n",
    "🔴 *Người đọc bị kéo vào vùng nguy hiểm. Đây là điểm cao trào của câu chuyện.*\n",
    "\n",
    "\n",
    "\n",
    "##### 💸 Tác động thực tế: “Con số nhỏ, thiệt hại lớn”\n",
    "\n",
    "> Với chi phí tuyển dụng – đào tạo trung bình ước tính **10.000 USD/người**,  \n",
    "> Công ty đang thiệt hại tới **330.000 USD/năm** chỉ riêng ở nhóm Sales Representative.\n",
    "\n",
    "💥 *Cảm xúc chuyển sang tài chính – đau ví tiền – thôi thúc hành động ngay.*\n",
    "\n",
    "\n",
    "\n",
    "##### 🧠 Kết luận & Dẫn dắt\n",
    "\n",
    "> 👉 **Sales Representative là \"ổ dịch trọng tâm\" cần ưu tiên phân tích nguyên nhân.**  \n",
    "> 👉 Các yếu tố cần làm rõ tiếp theo: **OverTime**, **Job Satisfaction**, **Thu nhập**.\n",
    "\n",
    "🧭 *Câu chuyện đã đi đến cao trào và mở ra chương mới – tìm nguyên nhân và giải pháp.*\n",
    "\n",
    "\n"
   ]
  },
  {
   "cell_type": "markdown",
   "id": "c1b88dc3",
   "metadata": {},
   "source": [
    "### KPI 3: Tỷ lệ nghỉ việc (%) giữa nhóm Có và Không Overtime"
   ]
  },
  {
   "cell_type": "markdown",
   "id": "e99a8c6b",
   "metadata": {},
   "source": [
    "#### ❓ Câu hỏi kinh doanh\n",
    "\n",
    "\"Làm thêm giờ (OverTime) có phải là một yếu tố góp phần khiến nhân viên nghỉ việc tại công ty?\"\n",
    "\n",
    "Câu hỏi này hướng đến việc kiểm tra xem việc yêu cầu nhân viên làm thêm giờ có liên quan đến xu hướng rời bỏ công ty hay không. Nếu có, công ty cần điều chỉnh khối lượng công việc, đặc biệt với nhóm làm thêm thường xuyên."
   ]
  },
  {
   "cell_type": "markdown",
   "id": "dd92c70a",
   "metadata": {},
   "source": [
    "#### 🎯 Mục tiêu\n",
    "\n",
    "Phân tích ảnh hưởng của yếu tố OverTime (làm thêm giờ) đến tình trạng Attrition (nghỉ việc), nhằm phát hiện các rủi ro tiềm ẩn và xây dựng chính sách nhân sự giảm nghỉ việc hiệu quả hơn."
   ]
  },
  {
   "cell_type": "markdown",
   "id": "98a097f6",
   "metadata": {},
   "source": [
    "#### 💡 Lý do lựa chọn KPI\n",
    "\n",
    "- Nhân viên làm thêm giờ thường gặp tình trạng áp lực công việc cao hoặc bị ép buộc làm việc quá mức.\n",
    "\n",
    "- Đây là một yếu tố quan sát được rõ ràng và có thể can thiệp trực tiếp thông qua chính sách.\n",
    "\n",
    "- Việc theo dõi và phân tích mối quan hệ giữa OverTime và Attrition giúp xác định nhóm có nguy cơ nghỉ việc cao.Đánh giá mức độ tác động của Overtime tới Attrition\n",
    "Đề xuất các biện pháp giảm tải, tái phân phối nhân lực, hoặc hỗ trợ nhóm làm thêm nhiều"
   ]
  },
  {
   "cell_type": "markdown",
   "id": "c071d6f2",
   "metadata": {},
   "source": [
    "#### 📚 Cách phân tích\n",
    "1. Tính tỷ lệ nghỉ việc trong từng nhóm OverTime: \"Yes\" (có làm thêm) vs \"No\" (không làm thêm).\n",
    "\n",
    "2. Tính tỷ lệ làm thêm giờ trong mỗi nhóm Attrition: \"Yes\" (đã nghỉ việc) vs \"No\" (vẫn đang làm).\n",
    "\n",
    "3. Trực quan hóa dữ liệu bằng biểu đồ cột.\n",
    "\n",
    "4. Đưa ra nhận xét riêng cho từng biểu đồ để rút ra insight."
   ]
  },
  {
   "cell_type": "markdown",
   "id": "0a9d97b3",
   "metadata": {},
   "source": [
    "#### 1. 🕵️‍♂️ Khám phá sơ bộ dữ liệu liên quan đến KPI 3: OverTime & Attrition"
   ]
  },
  {
   "cell_type": "markdown",
   "id": "960ba668",
   "metadata": {},
   "source": [
    "🧭 Thống kê nhanh"
   ]
  },
  {
   "cell_type": "code",
   "execution_count": 16,
   "id": "f7f0f8aa",
   "metadata": {},
   "outputs": [
    {
     "name": "stdout",
     "output_type": "stream",
     "text": [
      "\n",
      "📌 Một vài dòng dữ liệu mẫu:\n"
     ]
    },
    {
     "data": {
      "text/html": [
       "<div>\n",
       "<style scoped>\n",
       "    .dataframe tbody tr th:only-of-type {\n",
       "        vertical-align: middle;\n",
       "    }\n",
       "\n",
       "    .dataframe tbody tr th {\n",
       "        vertical-align: top;\n",
       "    }\n",
       "\n",
       "    .dataframe thead th {\n",
       "        text-align: right;\n",
       "    }\n",
       "</style>\n",
       "<table border=\"1\" class=\"dataframe\">\n",
       "  <thead>\n",
       "    <tr style=\"text-align: right;\">\n",
       "      <th></th>\n",
       "      <th>OverTime</th>\n",
       "      <th>Attrition</th>\n",
       "    </tr>\n",
       "  </thead>\n",
       "  <tbody>\n",
       "    <tr>\n",
       "      <th>761</th>\n",
       "      <td>No</td>\n",
       "      <td>Yes</td>\n",
       "    </tr>\n",
       "    <tr>\n",
       "      <th>765</th>\n",
       "      <td>No</td>\n",
       "      <td>No</td>\n",
       "    </tr>\n",
       "    <tr>\n",
       "      <th>721</th>\n",
       "      <td>Yes</td>\n",
       "      <td>No</td>\n",
       "    </tr>\n",
       "    <tr>\n",
       "      <th>562</th>\n",
       "      <td>Yes</td>\n",
       "      <td>Yes</td>\n",
       "    </tr>\n",
       "    <tr>\n",
       "      <th>1205</th>\n",
       "      <td>No</td>\n",
       "      <td>Yes</td>\n",
       "    </tr>\n",
       "  </tbody>\n",
       "</table>\n",
       "</div>"
      ],
      "text/plain": [
       "     OverTime Attrition\n",
       "761        No       Yes\n",
       "765        No        No\n",
       "721       Yes        No\n",
       "562       Yes       Yes\n",
       "1205       No       Yes"
      ]
     },
     "metadata": {},
     "output_type": "display_data"
    }
   ],
   "source": [
    "# Thống kê nhanh\n",
    "print(\"\\n📌 Một vài dòng dữ liệu mẫu:\")\n",
    "display(df[['OverTime', 'Attrition']].sample(5))"
   ]
  },
  {
   "cell_type": "markdown",
   "id": "e954275e",
   "metadata": {},
   "source": [
    "✅ Kiểu dữ liệu và các giá trị duy nhất"
   ]
  },
  {
   "cell_type": "code",
   "execution_count": 17,
   "id": "5c70941f",
   "metadata": {},
   "outputs": [
    {
     "name": "stdout",
     "output_type": "stream",
     "text": [
      "\n",
      "📌 Kiểu dữ liệu:\n",
      "OverTime     category\n",
      "Attrition    category\n",
      "dtype: object\n",
      "\n",
      "📌 Các giá trị duy nhất:\n",
      "OverTime: ['Yes', 'No']\n",
      "Categories (2, object): ['No', 'Yes']\n",
      "Attrition: ['Yes', 'No']\n",
      "Categories (2, object): ['No', 'Yes']\n"
     ]
    }
   ],
   "source": [
    "# Kiểm tra kiểu dữ liệu\n",
    "print(\"\\n📌 Kiểu dữ liệu:\")\n",
    "print(df[['OverTime', 'Attrition']].dtypes)\n",
    "\n",
    "# Kiểm tra giá trị duy nhất của OverTime và Attrition\n",
    "print(\"\\n📌 Các giá trị duy nhất:\")\n",
    "print(\"OverTime:\", df['OverTime'].unique())\n",
    "print(\"Attrition:\", df['Attrition'].unique())\n"
   ]
  },
  {
   "cell_type": "markdown",
   "id": "ee9d4f2b",
   "metadata": {},
   "source": [
    "**Nhận xét: Dữ liệu phù hợp để phân tích so sánh và kiểm định thống kê.**"
   ]
  },
  {
   "cell_type": "markdown",
   "id": "3f2c5f35",
   "metadata": {},
   "source": [
    "📊 Phân bố làm thêm giờ"
   ]
  },
  {
   "cell_type": "code",
   "execution_count": 18,
   "id": "288a6a8a",
   "metadata": {},
   "outputs": [
    {
     "name": "stdout",
     "output_type": "stream",
     "text": [
      "\n",
      "📌 Phân bố OverTime:\n",
      "OverTime\n",
      "No     71.70068\n",
      "Yes    28.29932\n",
      "Name: proportion, dtype: float64\n"
     ]
    }
   ],
   "source": [
    "# Phân bố OverTime trong toàn bộ tập dữ liệu\n",
    "print(\"\\n📌 Phân bố OverTime:\")\n",
    "print(df['OverTime'].value_counts(normalize=True) * 100)"
   ]
  },
  {
   "cell_type": "markdown",
   "id": "ffdccc93",
   "metadata": {},
   "source": [
    "**Nhận xét: Chỉ khoảng 1/4 nhân viên có làm thêm giờ, là nhóm cần quan tâm đặc biệt.**"
   ]
  },
  {
   "cell_type": "markdown",
   "id": "44fc02ce",
   "metadata": {},
   "source": [
    "📉 Tỷ lệ nghỉ việc toàn bộ nhân viên"
   ]
  },
  {
   "cell_type": "code",
   "execution_count": 19,
   "id": "f0dbf7ac",
   "metadata": {},
   "outputs": [
    {
     "name": "stdout",
     "output_type": "stream",
     "text": [
      "\n",
      "📌 Tỷ lệ nghỉ việc toàn bộ nhân viên:\n",
      "Attrition\n",
      "No     83.877551\n",
      "Yes    16.122449\n",
      "Name: proportion, dtype: float64\n"
     ]
    }
   ],
   "source": [
    "# Phân bố Attrition tổng thể\n",
    "print(\"\\n📌 Tỷ lệ nghỉ việc toàn bộ nhân viên:\")\n",
    "print(df['Attrition'].value_counts(normalize=True) * 100)"
   ]
  },
  {
   "cell_type": "markdown",
   "id": "304b1d5a",
   "metadata": {},
   "source": [
    "**Nhận xét: Tỷ lệ nghỉ việc tổng thể không quá cao, nhưng có thể không đồng đều giữa các nhóm.**"
   ]
  },
  {
   "cell_type": "markdown",
   "id": "728d8182",
   "metadata": {},
   "source": [
    "🔍 Phân bố OverTime theo tình trạng nghỉ việc"
   ]
  },
  {
   "cell_type": "code",
   "execution_count": 20,
   "id": "9c898d01",
   "metadata": {},
   "outputs": [
    {
     "name": "stdout",
     "output_type": "stream",
     "text": [
      "\n",
      "📌 Phân bố OverTime theo tình trạng nghỉ việc:\n",
      "OverTime          No        Yes\n",
      "Attrition                      \n",
      "No         76.561233  23.438767\n",
      "Yes        46.413502  53.586498\n"
     ]
    }
   ],
   "source": [
    "# Phân bố OverTime trong từng nhóm Attrition\n",
    "print(\"\\n📌 Phân bố OverTime theo tình trạng nghỉ việc:\")\n",
    "print(pd.crosstab(df['Attrition'], df['OverTime'], normalize='index') * 100)"
   ]
  },
  {
   "cell_type": "markdown",
   "id": "0767e2f0",
   "metadata": {},
   "source": [
    "**Nhận xét:**\n",
    "\n",
    "- Trong nhóm nghỉ việc: hơn 53% có làm thêm.\n",
    "\n",
    "- Trong nhóm ở lại: chỉ 23% làm thêm.\n",
    "\n",
    "👉 Kết luận sơ bộ: Làm thêm giờ có thể là một yếu tố rủi ro dẫn đến nghỉ việc."
   ]
  },
  {
   "cell_type": "markdown",
   "id": "76d30bc4",
   "metadata": {},
   "source": [
    "    Biểu đồ cột: Phân bố OverTime theo tình trạng nghỉ việc"
   ]
  },
  {
   "cell_type": "code",
   "execution_count": 21,
   "id": "b7fb7d33",
   "metadata": {},
   "outputs": [
    {
     "data": {
      "image/png": "[encoded data removed]",
      "text/plain": [
       "<Figure size 640x480 with 1 Axes>"
      ]
     },
     "metadata": {},
     "output_type": "display_data"
    }
   ],
   "source": [
    "import seaborn as sns\n",
    "import matplotlib.pyplot as plt\n",
    "\n",
    "# Tạo bảng dữ liệu\n",
    "ct = pd.crosstab(df['Attrition'], df['OverTime'], normalize='index') * 100\n",
    "ct.plot(kind='bar', stacked=True, colormap='coolwarm')\n",
    "\n",
    "plt.title('Tỷ lệ làm thêm giờ theo tình trạng nghỉ việc')\n",
    "plt.ylabel('Tỷ lệ (%)')\n",
    "plt.xlabel('Tình trạng nghỉ việc')\n",
    "plt.legend(title='Làm thêm giờ')\n",
    "plt.xticks(rotation=0)\n",
    "plt.show()\n"
   ]
  },
  {
   "cell_type": "markdown",
   "id": "cd1a5f1d",
   "metadata": {},
   "source": [
    "**Nhận xét:**\n",
    "\n",
    "Biểu đồ cho thấy nhóm nghỉ việc có phần lớn nhân viên làm thêm.\n",
    "\n",
    "Ngược lại, nhóm ở lại chủ yếu không làm thêm."
   ]
  },
  {
   "cell_type": "markdown",
   "id": "ce596e49",
   "metadata": {},
   "source": [
    "#### 2. 🧮  Phân tích sâu hơn mối liên hệ giữa OverTime và nghỉ việc"
   ]
  },
  {
   "cell_type": "markdown",
   "id": "fea79b79",
   "metadata": {},
   "source": [
    "##### Tỷ lệ nghỉ việc theo OverTime:"
   ]
  },
  {
   "cell_type": "code",
   "execution_count": 22,
   "id": "a99c2e5b",
   "metadata": {},
   "outputs": [
    {
     "name": "stdout",
     "output_type": "stream",
     "text": [
      "📌 Tổng số nhân viên theo OverTime:\n",
      "OverTime\n",
      "No     1054\n",
      "Yes     416\n",
      "Name: count, dtype: int64\n",
      "\n",
      "📌 Số người nghỉ việc theo OverTime:\n",
      "OverTime\n",
      "Yes    127\n",
      "No     110\n",
      "Name: count, dtype: int64\n",
      "\n",
      "📌Tỷ lệ nghỉ việc theo OverTime (%):\n",
      "OverTime\n",
      "Yes    30.528846\n",
      "No     10.436433\n",
      "Name: count, dtype: float64\n"
     ]
    }
   ],
   "source": [
    "# Tổng số nhân viên theo OverTime\n",
    "ot_total = df['OverTime'].value_counts()\n",
    "\n",
    "# Số nhân viên nghỉ việc theo OverTime\n",
    "ot_left = df[df['Attrition'] == 'Yes']['OverTime'].value_counts()\n",
    "\n",
    "# Tính tỷ lệ nghỉ việc (%)\n",
    "ot_attrition_rate = (ot_left / ot_total) * 100\n",
    "ot_attrition_rate = ot_attrition_rate.sort_values(ascending=False)\n",
    "\n",
    "# In kết quả\n",
    "print(\"📌 Tổng số nhân viên theo OverTime:\")\n",
    "print(df['OverTime'].value_counts())\n",
    "\n",
    "print(\"\\n📌 Số người nghỉ việc theo OverTime:\")\n",
    "print(df[df['Attrition'] == 'Yes']['OverTime'].value_counts())\n",
    "\n",
    "\n",
    "print(\"\\n📌Tỷ lệ nghỉ việc theo OverTime (%):\")\n",
    "print(ot_attrition_rate)\n"
   ]
  },
  {
   "cell_type": "markdown",
   "id": "af79d934",
   "metadata": {},
   "source": [
    "##### Tỷ lệ làm thêm giờ theo Attrition:"
   ]
  },
  {
   "cell_type": "code",
   "execution_count": 23,
   "id": "24e585af",
   "metadata": {},
   "outputs": [
    {
     "name": "stdout",
     "output_type": "stream",
     "text": [
      "📊 Thống kê làm thêm giờ theo tình trạng nghỉ việc:\n",
      "\n",
      "Tổng số nhân viên đã nghỉ việc: 237\n",
      "  - Số người làm thêm giờ: 127\n",
      "  - Tỷ lệ làm thêm giờ: 53.59%\n",
      "\n",
      "Tổng số nhân viên còn lại: 1233\n",
      "  - Số người làm thêm giờ: 289\n",
      "  - Tỷ lệ làm thêm giờ: 23.44%\n"
     ]
    }
   ],
   "source": [
    "# Chia dữ liệu thành hai nhóm theo Attrition\n",
    "nhan_vien_nghi = df[df['Attrition'] == 'Yes']\n",
    "nhan_vien_o_lai = df[df['Attrition'] == 'No']\n",
    "\n",
    "# Đếm số lượng nhân viên mỗi nhóm\n",
    "so_nv_nghi = len(nhan_vien_nghi)\n",
    "so_nv_o_lai = len(nhan_vien_o_lai)\n",
    "\n",
    "# Đếm số lượng và tỷ lệ làm thêm giờ trong mỗi nhóm\n",
    "so_lam_them_nghi = nhan_vien_nghi['OverTime'].value_counts().get('Yes', 0)\n",
    "so_lam_them_o_lai = nhan_vien_o_lai['OverTime'].value_counts().get('Yes', 0)\n",
    "\n",
    "ty_le_overtime_nghi = (so_lam_them_nghi / so_nv_nghi) * 100\n",
    "ty_le_overtime_o_lai = (so_lam_them_o_lai / so_nv_o_lai) * 100\n",
    "\n",
    "# In thông tin chi tiết\n",
    "print(\"📊 Thống kê làm thêm giờ theo tình trạng nghỉ việc:\\n\")\n",
    "\n",
    "print(f\"Tổng số nhân viên đã nghỉ việc: {so_nv_nghi}\")\n",
    "print(f\"  - Số người làm thêm giờ: {so_lam_them_nghi}\")\n",
    "print(f\"  - Tỷ lệ làm thêm giờ: {ty_le_overtime_nghi:.2f}%\\n\")\n",
    "\n",
    "print(f\"Tổng số nhân viên còn lại: {so_nv_o_lai}\")\n",
    "print(f\"  - Số người làm thêm giờ: {so_lam_them_o_lai}\")\n",
    "print(f\"  - Tỷ lệ làm thêm giờ: {ty_le_overtime_o_lai:.2f}%\")"
   ]
  },
  {
   "cell_type": "markdown",
   "id": "a820156d",
   "metadata": {},
   "source": [
    "##### Kết quả phân tích kết hợp"
   ]
  },
  {
   "cell_type": "code",
   "execution_count": 24,
   "id": "0adcc06b",
   "metadata": {},
   "outputs": [
    {
     "name": "stdout",
     "output_type": "stream",
     "text": [
      "\n",
      "Kết quả phân tích kết hợp:\n",
      "     Attrition_Rate  Overtime_Percentage\n",
      "No        10.436433            23.438767\n",
      "Yes       30.528846            53.586498\n"
     ]
    }
   ],
   "source": [
    "\n",
    "# Kết hợp kết quả để phân tích sâu hơn\n",
    "analysis_results = pd.DataFrame({\n",
    "    'Attrition_Rate': ot_attrition_rate,\n",
    "    'Overtime_Percentage': [ty_le_overtime_o_lai, ty_le_overtime_nghi]\n",
    "}, index=['No', 'Yes'])\n",
    "\n",
    "print(\"\\nKết quả phân tích kết hợp:\")\n",
    "print(analysis_results)"
   ]
  },
  {
   "cell_type": "markdown",
   "id": "20d52fc0",
   "metadata": {},
   "source": [
    "#### 3. 📈  Trực quan hóa mối liên hệ giữa OverTime và nghỉ việc"
   ]
  },
  {
   "cell_type": "markdown",
   "id": "8c8794b0",
   "metadata": {},
   "source": [
    "    Biểu đồ 1: Tỷ lệ nghỉ việc theo OverTime"
   ]
  },
  {
   "cell_type": "code",
   "execution_count": 25,
   "id": "363a97ac",
   "metadata": {},
   "outputs": [
    {
     "data": {
      "image/png": "[encoded data removed]",
      "text/plain": [
       "<Figure size 800x500 with 1 Axes>"
      ]
     },
     "metadata": {},
     "output_type": "display_data"
    }
   ],
   "source": [
    "\n",
    "plt.figure(figsize=(8, 5))\n",
    "ax = sns.barplot(x=ot_attrition_rate.index, y=ot_attrition_rate.values, hue=ot_attrition_rate.index,\n",
    "                 palette='coolwarm', legend=False)\n",
    "\n",
    "plt.title('Tỷ lệ nghỉ việc theo OverTime', fontsize=16)\n",
    "plt.xlabel('OverTime', fontsize=14)\n",
    "plt.ylabel('Tỷ lệ nghỉ việc (%)', fontsize=14)\n",
    "plt.ylim(0, ot_attrition_rate.max() + 5)\n",
    "plt.grid(axis='y', linestyle='--') # Thêm đường lưới đứt nét cho dễ nhìn\n",
    "\n",
    "# Thêm nhãn giá trị trên cột\n",
    "for p in ax.patches:\n",
    "    height = p.get_height()\n",
    "    ax.text(p.get_x() + p.get_width() / 2., height + 0.5,\n",
    "            f'{height:.2f}%', ha='center', va='bottom', fontsize=10)\n",
    "\n",
    "# Định dạng trục y thành phần trăm\n",
    "import matplotlib.ticker as mtick\n",
    "ax.yaxis.set_major_formatter(mtick.PercentFormatter())\n",
    "\n",
    "plt.tight_layout() # Điều chỉnh layout để tránh nhãn bị cắt\n",
    "plt.show()"
   ]
  },
  {
   "cell_type": "markdown",
   "id": "fa4001ab",
   "metadata": {},
   "source": [
    "**Mô tả:**\n",
    "\n",
    "Biểu đồ này thể hiện tỷ lệ nghỉ việc (%) theo hai nhóm nhân viên: nhóm không làm thêm giờ (\"No\") và nhóm có làm thêm giờ (\"Yes\"). Trục hoành biểu thị trạng thái làm thêm giờ, trục tung biểu thị tỷ lệ nghỉ việc.\n",
    "\n",
    "**Phân tích:**\n",
    "\n",
    "- Sự khác biệt rõ rệt: Có một sự khác biệt đáng kể về tỷ lệ nghỉ việc giữa hai nhóm.\n",
    "- Nhóm làm thêm giờ có tỷ lệ nghỉ việc cao hơn: Tỷ lệ nghỉ việc của nhóm \"Yes\" (30.53%) cao gần gấp ba lần so với nhóm \"No\" (10.44%).\n",
    "- Làm thêm giờ là yếu tố nguy cơ: Điều này cho thấy rằng việc làm thêm giờ có thể là một yếu tố nguy cơ quan trọng, làm tăng khả năng nhân viên rời bỏ công ty.\n",
    "\n",
    "**Nhận xét:**\n",
    "\n",
    "Biểu đồ này cung cấp bằng chứng trực quan mạnh mẽ về mối liên hệ giữa làm thêm giờ và tỷ lệ nghỉ việc. Tuy nhiên, nó chỉ cho thấy mối tương quan, không phải là quan hệ nhân quả. Cần có thêm phân tích để hiểu rõ hơn về các yếu tố nào khác có thể ảnh hưởng đến quyết định nghỉ việc của nhân viên làm thêm giờ."
   ]
  },
  {
   "cell_type": "markdown",
   "id": "06b3ab07",
   "metadata": {},
   "source": [
    "    Biểu đồ 2: Tỷ lệ làm thêm giờ của nhóm nghỉ việc và ở lại"
   ]
  },
  {
   "cell_type": "code",
   "execution_count": 26,
   "id": "ad034701",
   "metadata": {},
   "outputs": [
    {
     "data": {
      "image/png": "[encoded data removed]",
      "text/plain": [
       "<Figure size 800x500 with 1 Axes>"
      ]
     },
     "metadata": {},
     "output_type": "display_data"
    }
   ],
   "source": [
    "\n",
    "# Dữ liệu biểu đồ\n",
    "df_plot = pd.DataFrame({\n",
    "    'Tình trạng': ['Ở lại', 'Nghỉ việc'],\n",
    "    'Tỷ lệ làm thêm': [ty_le_overtime_o_lai, ty_le_overtime_nghi]\n",
    "})\n",
    "\n",
    "plt.figure(figsize=(8, 5 ))\n",
    "ax = sns.barplot(\n",
    "    data=df_plot,\n",
    "    x='Tình trạng',\n",
    "    y='Tỷ lệ làm thêm',\n",
    "    hue='Tình trạng',         # sửa lỗi cảnh báo\n",
    "    palette='Set2',\n",
    "    legend=False\n",
    ")\n",
    "plt.title('Tỷ lệ làm thêm giờ của nhân viên', fontsize=14)\n",
    "plt.ylabel('Tỷ lệ làm thêm giờ (%)')\n",
    "plt.grid(axis='y', linestyle='--')\n",
    "\n",
    "# Nhãn trên cột\n",
    "for p in ax.patches:\n",
    "    height = p.get_height()\n",
    "    ax.text(p.get_x() + p.get_width() / 2., height + 0.5,\n",
    "            f'{height:.2f}%', ha='center', fontsize=10)\n",
    "\n",
    "plt.ylim(0, max(ty_le_overtime_nghi, ty_le_overtime_o_lai) + 10)\n",
    "plt.tight_layout()\n",
    "plt.show()\n"
   ]
  },
  {
   "cell_type": "markdown",
   "id": "cf0eca02",
   "metadata": {},
   "source": [
    "**Mô tả:**\n",
    "\n",
    "Biểu đồ này so sánh tỷ lệ nhân viên làm thêm giờ (%) giữa nhóm nhân viên ở lại (\"Ở lại\") và nhóm nhân viên đã nghỉ việc (\"Nghỉ việc\"). Trục hoành biểu thị tình trạng nhân viên (ở lại hoặc nghỉ việc), trục tung biểu thị tỷ lệ làm thêm giờ.\n",
    "\n",
    "**Phân tích:**\n",
    "\n",
    "- Tỷ lệ làm thêm giờ khác nhau: Có sự khác biệt về tỷ lệ làm thêm giờ giữa hai nhóm nhân viên.\n",
    "- Nhóm nghỉ việc làm thêm giờ nhiều hơn: Tỷ lệ làm thêm giờ ở nhóm \"Nghỉ việc\" (53.59%) cao hơn đáng kể so với nhóm \"Ở lại\" (23.44%).\n",
    "- Làm thêm giờ và xu hướng nghỉ việc: Điều này cho thấy rằng nhân viên có xu hướng làm thêm giờ nhiều hơn cũng có xu hướng nghỉ việc cao hơn.\n",
    "\n",
    "**Nhận xét:**\n",
    "\n",
    "Biểu đồ này cung cấp một góc nhìn khác về mối quan hệ giữa làm thêm giờ và nghỉ việc, tập trung vào tỷ lệ làm thêm giờ trong từng nhóm nhân viên. Nó củng cố thêm cho phát hiện từ Biểu đồ 1, cho thấy rằng làm thêm giờ có thể là một yếu tố góp phần vào quyết định nghỉ việc."
   ]
  },
  {
   "cell_type": "markdown",
   "id": "869a3fa2",
   "metadata": {},
   "source": [
    "#### 📋 Bảng So Sánh Tổng Hợp: Ảnh hưởng của OverTime đến nghỉ việc"
   ]
  },
  {
   "cell_type": "markdown",
   "id": "b5d0936f",
   "metadata": {},
   "source": [
    "| Nhóm OverTime | Tổng số NV | Số nghỉ việc | Tỷ lệ nghỉ việc (%) | Số làm thêm giờ                | Tỷ lệ làm thêm trong nhóm (%) |\n",
    "| ------------- | ---------- | ------------ | ------------------- | ------------------------------ | ----------------------------- |\n",
    "| **Yes**       | 416        | 127          | **30.53%**          | 127 (nghỉ) + 289 (ở lại) = 416 | - (toàn bộ nhóm làm thêm)     |\n",
    "| **No**        | 1054       | 110          | **10.44%**          | 0 (không làm thêm)             | -                             |\n",
    "| **Tổng cộng** | 1470       | 237          | 16.12%              | 416                            | 28.30%                        |\n",
    "\n",
    "Ngoài ra:\n",
    "\n",
    "| **Tình trạng**   | Tỷ lệ làm thêm giờ (%) |\n",
    "| ---------------- | ---------------------- |\n",
    "| **Đã nghỉ việc** | **53.59%**             |\n",
    "| **Còn ở lại**    | **23.44%**             |\n"
   ]
  },
  {
   "cell_type": "markdown",
   "id": "a84dfa6d",
   "metadata": {},
   "source": [
    "**Phân tích tổng quát**\n",
    "\n",
    "Tỷ lệ nghỉ việc trong nhóm làm thêm giờ (OverTime = Yes) là 30.53%, cao gần gấp 3 lần so với nhóm không làm thêm (10.44%).\n",
    "\n",
    "👉 Điều này cho thấy OverTime có tương quan mạnh với việc nghỉ việc.\n",
    "\n",
    "Ngược lại, nếu xét theo nhóm \"Đã nghỉ việc\", thì hơn 53% trong số đó từng làm thêm giờ, so với chỉ 23% ở nhóm \"Còn làm\".\n",
    "\n",
    "👉 Nghĩa là làm thêm giờ là một đặc điểm nổi bật của những người đã nghỉ việc."
   ]
  },
  {
   "cell_type": "markdown",
   "id": "bf539c3b",
   "metadata": {},
   "source": [
    "**Kết luận từ phân tích**\n",
    "\n",
    "✅ Câu trả lời cho câu hỏi ban đầu: \"Làm thêm giờ có phải là yếu tố góp phần khiến nhân viên nghỉ việc?\" là:\n",
    "\n",
    "→ Có, và mức độ ảnh hưởng là RÕ RỆT và THUYẾT PHỤC."
   ]
  },
  {
   "cell_type": "markdown",
   "id": "fe2426a0",
   "metadata": {},
   "source": [
    "**Nguyên nhân sâu xa cực kỳ thuyết phục**\n",
    "\n",
    "👉 OverTime không chỉ là biểu hiện của khối lượng công việc cao, mà còn là tín hiệu cảnh báo môi trường làm việc đang mất cân bằng, cụ thể:\n",
    "\n",
    "\"Làm thêm giờ kéo dài dẫn đến kiệt sức, thiếu thời gian cá nhân, giảm gắn kết, và khiến nhân viên cảm thấy bị bóc lột hoặc không được đánh giá đúng – từ đó hình thành mong muốn rời bỏ.\"\n",
    "\n",
    "Đây là một vòng xoáy burnout (kiệt sức) thường gặp trong các tổ chức không kiểm soát tốt khối lượng công việc và thời gian làm thêm."
   ]
  },
  {
   "cell_type": "markdown",
   "id": "892edfdb",
   "metadata": {},
   "source": [
    "#### 💡 Insight tổng quát\n",
    "- OverTime là một chỉ số dự báo mạnh cho việc nghỉ việc.\n",
    "\n",
    "- Việc giám sát số giờ OT và nhóm nhân viên làm thêm có thể giúp phát hiện rủi ro nghỉ việc từ sớm.\n",
    "\n",
    "- Đây là yếu tố dễ đo lường, dễ hành động và có tiềm năng cải thiện giữ chân nhân viên.\n",
    "\n",
    "#### ✅ Đề xuất hành động\n",
    "- Giới hạn giờ OT hàng tuần và công khai chính sách rõ ràng.\n",
    "\n",
    "- Thưởng OT hợp lý hoặc cung cấp các quyền lợi bù đắp (ngày nghỉ, phúc lợi).\n",
    "\n",
    "- Thiết lập hệ thống cảnh báo sớm nếu nhân viên làm thêm quá mức trong nhiều tuần liên tiếp.\n",
    "\n",
    "- Khảo sát hài lòng định kỳ đối với nhân viên làm thêm để đánh giá nguy cơ burnout."
   ]
  }
 ],
 "metadata": {
  "kernelspec": {
   "display_name": "Python 3",
   "language": "python",
   "name": "python3"
  },
  "language_info": {
   "codemirror_mode": {
    "name": "ipython",
    "version": 3
   },
   "file_extension": ".py",
   "mimetype": "text/x-python",
   "name": "python",
   "nbconvert_exporter": "python",
   "pygments_lexer": "ipython3",
   "version": "3.13.1"
  }
 },
 "nbformat": 4,
 "nbformat_minor": 5
}
